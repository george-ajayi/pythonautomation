{
 "cells": [
  {
   "cell_type": "code",
   "execution_count": 7,
   "id": "ba639612",
   "metadata": {},
   "outputs": [
    {
     "name": "stdout",
     "output_type": "stream",
     "text": [
      "email sent\n"
     ]
    }
   ],
   "source": [
    "import smtplib\n",
    "import ssl\n",
    "import os\n",
    "from email.message import EmailMessage\n",
    "path=os.path.expanduser('~/Desktop/').replace('\\\\','/')\n",
    "attach=path+'multiplexcelsheet.xlsx'\n",
    "email_sender='georgeajakadrex@gmail.com'\n",
    "password='forwimzzgddvgigc'\n",
    "email_receivers=['georgeajayi2003@yahoo.com','johndoetestemail3@yahoo.com']\n",
    "subject='Testing email automation '\n",
    "body=\" how are you doing bro ?, here is the attachment\"\n",
    "for email in email_receivers:\n",
    "    em=EmailMessage()\n",
    "    em['From']=email_sender\n",
    "    em['To']=email\n",
    "    em['Subject']=subject\n",
    "    em.set_content(body)\n",
    "    context=ssl.create_default_context()\n",
    "    with open(attach, 'rb') as f:\n",
    "        file_data = f.read()\n",
    "    em.add_attachment(file_data, maintype=\"application\", subtype=\"xlsx\", filename=attach)\n",
    "\n",
    "    with smtplib.SMTP_SSL('smtp.gmail.com', 465) as smtp:\n",
    "        smtp.login(email_sender, password)\n",
    "        smtp.send_message(em)\n",
    "\n",
    "\n",
    "print('email sent')\n"
   ]
  }
 ],
 "metadata": {
  "kernelspec": {
   "display_name": "Python 3 (ipykernel)",
   "language": "python",
   "name": "python3"
  },
  "language_info": {
   "codemirror_mode": {
    "name": "ipython",
    "version": 3
   },
   "file_extension": ".py",
   "mimetype": "text/x-python",
   "name": "python",
   "nbconvert_exporter": "python",
   "pygments_lexer": "ipython3",
   "version": "3.10.4"
  }
 },
 "nbformat": 4,
 "nbformat_minor": 5
}
