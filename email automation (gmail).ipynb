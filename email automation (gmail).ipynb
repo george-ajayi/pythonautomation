{
 "cells": [
  {
   "cell_type": "code",
   "execution_count": 3,
   "id": "5baa3bf1",
   "metadata": {},
   "outputs": [
    {
     "data": {
      "text/html": [
       "<div>\n",
       "<style scoped>\n",
       "    .dataframe tbody tr th:only-of-type {\n",
       "        vertical-align: middle;\n",
       "    }\n",
       "\n",
       "    .dataframe tbody tr th {\n",
       "        vertical-align: top;\n",
       "    }\n",
       "\n",
       "    .dataframe thead th {\n",
       "        text-align: right;\n",
       "    }\n",
       "</style>\n",
       "<table border=\"1\" class=\"dataframe\">\n",
       "  <thead>\n",
       "    <tr style=\"text-align: right;\">\n",
       "      <th></th>\n",
       "      <th>names</th>\n",
       "      <th>email</th>\n",
       "      <th>Hall</th>\n",
       "    </tr>\n",
       "  </thead>\n",
       "  <tbody>\n",
       "    <tr>\n",
       "      <th>0</th>\n",
       "      <td>George</td>\n",
       "      <td>george.ajayi@stu.cu.edu.ng</td>\n",
       "      <td>DEBORAH</td>\n",
       "    </tr>\n",
       "    <tr>\n",
       "      <th>1</th>\n",
       "      <td>Olanrewaju</td>\n",
       "      <td>olanrewajuajayi2003@gmail.com</td>\n",
       "      <td>JOSEPH</td>\n",
       "    </tr>\n",
       "  </tbody>\n",
       "</table>\n",
       "</div>"
      ],
      "text/plain": [
       "        names                          email     Hall\n",
       "0      George     george.ajayi@stu.cu.edu.ng  DEBORAH\n",
       "1  Olanrewaju  olanrewajuajayi2003@gmail.com   JOSEPH"
      ]
     },
     "execution_count": 3,
     "metadata": {},
     "output_type": "execute_result"
    }
   ],
   "source": [
    "import pandas as pd\n",
    "emails=pd.read_excel('~/Downloads/email.xlsx')\n",
    "emails"
   ]
  },
  {
   "cell_type": "code",
   "execution_count": 2,
   "id": "b3bede8c",
   "metadata": {},
   "outputs": [
    {
     "name": "stdout",
     "output_type": "stream",
     "text": [
      "email sent\n"
     ]
    }
   ],
   "source": [
    "\n",
    "import smtplib\n",
    "from email.message import EmailMessage\n",
    "import os\n",
    "SENDER_EMAIL = \"georgeajakadrex@gmail.com\"\n",
    "APP_PASSWORD = \"forwimzzgddvgigc\"\n",
    "subject='the excel file I promised'\n",
    "    \n",
    "for index, row in emails.iterrows():\n",
    "    msg = EmailMessage()\n",
    "    msg['Subject'] = subject\n",
    "    msg['From'] = SENDER_EMAIL\n",
    "    msg['To'] = row['email']\n",
    "    body=f\"\"\"Hello {row['names']} \\n how are you doing?,here is the attachment of roll call\n",
    "            defaulters for {row['Hall']} hall.\n",
    "    \"\"\"\n",
    "    msg.set_content(body)\n",
    "    attach=f\"{row['Hall']}.xlsx\"\n",
    "\n",
    "    with open(attach, 'rb') as f:\n",
    "        file_data = f.read()\n",
    "    msg.add_attachment(file_data, maintype=\"application\", subtype=\"xlsx\", filename=attach)\n",
    "\n",
    "    with smtplib.SMTP_SSL('smtp.gmail.com', 465) as smtp:\n",
    "        smtp.login(SENDER_EMAIL, APP_PASSWORD)\n",
    "        smtp.send_message(msg)\n",
    "print('email sent')\n",
    "    "
   ]
  }
 ],
 "metadata": {
  "kernelspec": {
   "display_name": "Python 3 (ipykernel)",
   "language": "python",
   "name": "python3"
  },
  "language_info": {
   "codemirror_mode": {
    "name": "ipython",
    "version": 3
   },
   "file_extension": ".py",
   "mimetype": "text/x-python",
   "name": "python",
   "nbconvert_exporter": "python",
   "pygments_lexer": "ipython3",
   "version": "3.10.4"
  }
 },
 "nbformat": 4,
 "nbformat_minor": 5
}
