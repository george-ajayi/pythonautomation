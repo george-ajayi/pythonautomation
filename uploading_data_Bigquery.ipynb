{
 "cells": [
  {
   "cell_type": "code",
   "execution_count": 1,
   "metadata": {},
   "outputs": [
    {
     "name": "stdout",
     "output_type": "stream",
     "text": [
      "Collecting google-cloud-storage\n",
      "  Downloading google_cloud_storage-2.7.0-py2.py3-none-any.whl (110 kB)\n",
      "     ------------------------------------ 110.2/110.2 KB 636.8 kB/s eta 0:00:00\n",
      "Requirement already satisfied: google-resumable-media>=2.3.2 in c:\\users\\user\\appdata\\local\\programs\\python\\python310\\lib\\site-packages (from google-cloud-storage) (2.3.3)\n",
      "Requirement already satisfied: google-api-core!=2.0.*,!=2.1.*,!=2.2.*,!=2.3.0,<3.0.0dev,>=1.31.5 in c:\\users\\user\\appdata\\local\\programs\\python\\python310\\lib\\site-packages (from google-cloud-storage) (2.8.2)\n",
      "Requirement already satisfied: google-cloud-core<3.0dev,>=2.3.0 in c:\\users\\user\\appdata\\local\\programs\\python\\python310\\lib\\site-packages (from google-cloud-storage) (2.3.2)\n",
      "Requirement already satisfied: requests<3.0.0dev,>=2.18.0 in c:\\users\\user\\appdata\\local\\programs\\python\\python310\\lib\\site-packages (from google-cloud-storage) (2.27.1)\n",
      "Requirement already satisfied: google-auth<3.0dev,>=1.25.0 in c:\\users\\user\\appdata\\local\\programs\\python\\python310\\lib\\site-packages (from google-cloud-storage) (2.10.0)\n",
      "Requirement already satisfied: protobuf<5.0.0dev,>=3.15.0 in c:\\users\\user\\appdata\\local\\programs\\python\\python310\\lib\\site-packages (from google-api-core!=2.0.*,!=2.1.*,!=2.2.*,!=2.3.0,<3.0.0dev,>=1.31.5->google-cloud-storage) (3.20.1)\n",
      "Requirement already satisfied: googleapis-common-protos<2.0dev,>=1.56.2 in c:\\users\\user\\appdata\\local\\programs\\python\\python310\\lib\\site-packages (from google-api-core!=2.0.*,!=2.1.*,!=2.2.*,!=2.3.0,<3.0.0dev,>=1.31.5->google-cloud-storage) (1.56.4)\n",
      "Requirement already satisfied: six>=1.9.0 in c:\\users\\user\\appdata\\local\\programs\\python\\python310\\lib\\site-packages (from google-auth<3.0dev,>=1.25.0->google-cloud-storage) (1.16.0)\n",
      "Requirement already satisfied: rsa<5,>=3.1.4 in c:\\users\\user\\appdata\\local\\programs\\python\\python310\\lib\\site-packages (from google-auth<3.0dev,>=1.25.0->google-cloud-storage) (4.9)\n",
      "Requirement already satisfied: cachetools<6.0,>=2.0.0 in c:\\users\\user\\appdata\\local\\programs\\python\\python310\\lib\\site-packages (from google-auth<3.0dev,>=1.25.0->google-cloud-storage) (5.2.0)\n",
      "Requirement already satisfied: pyasn1-modules>=0.2.1 in c:\\users\\user\\appdata\\local\\programs\\python\\python310\\lib\\site-packages (from google-auth<3.0dev,>=1.25.0->google-cloud-storage) (0.2.8)\n",
      "Requirement already satisfied: google-crc32c<2.0dev,>=1.0 in c:\\users\\user\\appdata\\local\\programs\\python\\python310\\lib\\site-packages (from google-resumable-media>=2.3.2->google-cloud-storage) (1.3.0)\n",
      "Requirement already satisfied: idna<4,>=2.5 in c:\\users\\user\\appdata\\local\\programs\\python\\python310\\lib\\site-packages (from requests<3.0.0dev,>=2.18.0->google-cloud-storage) (3.3)\n",
      "Requirement already satisfied: charset-normalizer~=2.0.0 in c:\\users\\user\\appdata\\local\\programs\\python\\python310\\lib\\site-packages (from requests<3.0.0dev,>=2.18.0->google-cloud-storage) (2.0.12)\n",
      "Requirement already satisfied: certifi>=2017.4.17 in c:\\users\\user\\appdata\\local\\programs\\python\\python310\\lib\\site-packages (from requests<3.0.0dev,>=2.18.0->google-cloud-storage) (2022.5.18.1)\n",
      "Requirement already satisfied: urllib3<1.27,>=1.21.1 in c:\\users\\user\\appdata\\local\\programs\\python\\python310\\lib\\site-packages (from requests<3.0.0dev,>=2.18.0->google-cloud-storage) (1.26.9)\n",
      "Requirement already satisfied: pyasn1<0.5.0,>=0.4.6 in c:\\users\\user\\appdata\\local\\programs\\python\\python310\\lib\\site-packages (from pyasn1-modules>=0.2.1->google-auth<3.0dev,>=1.25.0->google-cloud-storage) (0.4.8)\n",
      "Installing collected packages: google-cloud-storage\n",
      "Successfully installed google-cloud-storage-2.7.0\n",
      "Note: you may need to restart the kernel to use updated packages.\n"
     ]
    },
    {
     "name": "stderr",
     "output_type": "stream",
     "text": [
      "  WARNING: Retrying (Retry(total=4, connect=None, read=None, redirect=None, status=None)) after connection broken by 'NewConnectionError('<pip._vendor.urllib3.connection.HTTPSConnection object at 0x0000018D23747BB0>: Failed to establish a new connection: [Errno 11002] getaddrinfo failed')': /packages/6e/23/3add67cdd1f2116eb4425b0d4f3154117b8a79eaaf3022edc23a71d82cc2/google_cloud_storage-2.7.0-py2.py3-none-any.whl\n",
      "  WARNING: Retrying (Retry(total=3, connect=None, read=None, redirect=None, status=None)) after connection broken by 'NewConnectionError('<pip._vendor.urllib3.connection.HTTPSConnection object at 0x0000018D23747E80>: Failed to establish a new connection: [Errno 11002] getaddrinfo failed')': /packages/6e/23/3add67cdd1f2116eb4425b0d4f3154117b8a79eaaf3022edc23a71d82cc2/google_cloud_storage-2.7.0-py2.py3-none-any.whl\n",
      "  WARNING: Retrying (Retry(total=2, connect=None, read=None, redirect=None, status=None)) after connection broken by 'NewConnectionError('<pip._vendor.urllib3.connection.HTTPSConnection object at 0x0000018D23747D90>: Failed to establish a new connection: [Errno 11002] getaddrinfo failed')': /packages/6e/23/3add67cdd1f2116eb4425b0d4f3154117b8a79eaaf3022edc23a71d82cc2/google_cloud_storage-2.7.0-py2.py3-none-any.whl\n",
      "  WARNING: Retrying (Retry(total=1, connect=None, read=None, redirect=None, status=None)) after connection broken by 'NewConnectionError('<pip._vendor.urllib3.connection.HTTPSConnection object at 0x0000018D23778220>: Failed to establish a new connection: [Errno 11002] getaddrinfo failed')': /packages/6e/23/3add67cdd1f2116eb4425b0d4f3154117b8a79eaaf3022edc23a71d82cc2/google_cloud_storage-2.7.0-py2.py3-none-any.whl\n",
      "  WARNING: Retrying (Retry(total=0, connect=None, read=None, redirect=None, status=None)) after connection broken by 'NewConnectionError('<pip._vendor.urllib3.connection.HTTPSConnection object at 0x0000018D237783D0>: Failed to establish a new connection: [Errno 11002] getaddrinfo failed')': /packages/6e/23/3add67cdd1f2116eb4425b0d4f3154117b8a79eaaf3022edc23a71d82cc2/google_cloud_storage-2.7.0-py2.py3-none-any.whl\n",
      "WARNING: You are using pip version 22.0.4; however, version 22.3.1 is available.\n",
      "You should consider upgrading via the 'c:\\Users\\User\\AppData\\Local\\Programs\\Python\\Python310\\python.exe -m pip install --upgrade pip' command.\n"
     ]
    }
   ],
   "source": [
    "pip install --upgrade google-cloud-storage\n"
   ]
  },
  {
   "cell_type": "code",
   "execution_count": 1,
   "metadata": {},
   "outputs": [],
   "source": [
    "import os\n",
    "from google.cloud import bigquery"
   ]
  },
  {
   "attachments": {},
   "cell_type": "markdown",
   "metadata": {},
   "source": [
    "<h3> Upload files from computer to google Bigquery"
   ]
  },
  {
   "cell_type": "code",
   "execution_count": 1,
   "metadata": {},
   "outputs": [
    {
     "name": "stdout",
     "output_type": "stream",
     "text": [
      "DONE\n",
      "LoadJob<project=my-project-356323, location=US, id=09e8585f-ee8f-4c2a-891a-371f08deab42>\n",
      "\n",
      "DONE\n",
      "LoadJob<project=my-project-356323, location=US, id=d48820be-9883-434f-b572-bf285100028b>\n",
      "\n"
     ]
    }
   ],
   "source": [
    "from pathlib import Path\n",
    "import time\n",
    "import os\n",
    "from google.cloud import bigquery\n",
    "# this stuff is important\n",
    "os.environ['GOOGLE_APPLICATION_CREDENTIALS']='cloud_key1.json'\n",
    "\n",
    "def table_reference(project_id, dataset_id, table_id):\n",
    "    dataset_ref = bigquery.DatasetReference(project_id, dataset_id)\n",
    "    table_ref = bigquery.TableReference(dataset_ref, table_id)\n",
    "    return table_ref\n",
    "\n",
    "\n",
    "def delete_dataset_tables(project_id, dataset_id):\n",
    "    tables = client.list_tables(f'{project_id}.{dataset_id}')\n",
    "    for table in tables:\n",
    "        client.delete_table(table)\n",
    "    print('Tables deleted.')\n",
    "\n",
    "def upload_csv(client, table_ref, csv_file):\n",
    "    client.delete_table(table_ref, not_found_ok=True)\n",
    "\n",
    "    load_job_configuration1 = bigquery.LoadJobConfig()\n",
    "    # load_job_configuration.schema = [\n",
    "    #     bigquery.SchemaField('movieid', 'INTEGER', mode='REQUIRED'),\n",
    "    #     bigquery.SchemaField('title', 'STRING', mode='NULLABLE'),\n",
    "    #     bigquery.SchemaField('genres', 'STRING', mode='NULLABLE')\n",
    "    # ]\n",
    "\n",
    "    load_job_configuration1.autodetect = True\n",
    "    load_job_configuration1.source_format = bigquery.SourceFormat.CSV\n",
    "    # load_job_configuration1.skip_leading_rows = 1\n",
    "    load_job_configuration1.allow_quoted_newlines = True\n",
    "\n",
    "    with open(csv_file, 'rb') as source_file:\n",
    "        upload_job = client.load_table_from_file(\n",
    "            source_file,\n",
    "            destination=table_ref,          \n",
    "            location='US',\n",
    "            job_config=load_job_configuration1\n",
    "        )\n",
    "\n",
    "    while upload_job.state != 'DONE':\n",
    "        time.sleep(2)\n",
    "        upload_job.reload()\n",
    "        print(upload_job.state)\n",
    "    print(upload_job.result())\n",
    "# files in  a particular directory on my system\n",
    "d=os.path.expanduser(\"~/Desktop/\").replace(\"\\\\\",'/')\n",
    "project_id = 'my-project-356323'\n",
    "dataset_id = 'upload_testdata'\n",
    "for files in os.listdir(d+\"gcloud/data\"):\n",
    "    client = bigquery.Client()\n",
    "    table_name=files.strip('.csv')\n",
    "    csv_file = d+\"gcloud/data\"+'/'+files\n",
    "    table_ref = table_reference(project_id, dataset_id, table_name)\n",
    "    upload_csv(client, table_ref, csv_file)\n",
    "    print()\n",
    "\n",
    "# delete_dataset_tables(project_id, dataset_id)     "
   ]
  },
  {
   "attachments": {},
   "cell_type": "markdown",
   "metadata": {},
   "source": [
    "<h3> Upload dataframes to google Bigquery"
   ]
  },
  {
   "cell_type": "code",
   "execution_count": 2,
   "metadata": {},
   "outputs": [
    {
     "name": "stdout",
     "output_type": "stream",
     "text": [
      "Table my_table created.\n",
      "Loaded 34208 rows into my_table.\n"
     ]
    }
   ],
   "source": [
    "import pandas as pd\n",
    "from google.cloud import bigquery\n",
    "\n",
    "# Set up the BigQuery client and table reference\n",
    "d=os.path.expanduser(\"~/Desktop/\").replace(\"\\\\\",'/')\n",
    "project_id = 'my-project-356323'\n",
    "dataset_id = 'upload_testdata'\n",
    "df=pd.read_csv('movies.csv')\n",
    "\n",
    "client = bigquery.Client()\n",
    "\n",
    "# Set up the table\n",
    "\n",
    "table_id = 'my_table'\n",
    "table_ref = client.dataset(dataset_id).table(table_id)\n",
    "table = bigquery.Table(table_ref)\n",
    "\n",
    "# Create the table in BigQuery\n",
    "table = client.create_table(table)\n",
    "print(f'Table {table.table_id} created.')\n",
    "\n",
    "# Load the DataFrame into the table\n",
    "job = client.load_table_from_dataframe(df, table_ref, location='US')\n",
    "\n",
    "# Wait for the load job to complete\n",
    "job.result()\n",
    "print(f'Loaded {job.output_rows} rows into {table_id}.')\n",
    "\n",
    "# for files in os.listdir(d+\"gcloud/data\"):\n",
    "#     client = bigquery.Client()\n",
    "#     table_name=files.strip('.csv')\n",
    "#     csv_file = d+\"gcloud/data\"+'/'+files\n",
    "#     table_ref = table_reference(project_id, dataset_id, table_name)\n",
    "#     upload_csv(client, table_ref, csv_file)\n",
    "#     print()"
   ]
  }
 ],
 "metadata": {
  "kernelspec": {
   "display_name": "Python 3",
   "language": "python",
   "name": "python3"
  },
  "language_info": {
   "codemirror_mode": {
    "name": "ipython",
    "version": 3
   },
   "file_extension": ".py",
   "mimetype": "text/x-python",
   "name": "python",
   "nbconvert_exporter": "python",
   "pygments_lexer": "ipython3",
   "version": "3.10.4"
  },
  "orig_nbformat": 4,
  "vscode": {
   "interpreter": {
    "hash": "afb734500600fd355917ca529030176ea0ca205570884b88f2f6f7d791fd3fbe"
   }
  }
 },
 "nbformat": 4,
 "nbformat_minor": 2
}
